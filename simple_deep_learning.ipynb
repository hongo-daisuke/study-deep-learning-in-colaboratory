{
  "nbformat": 4,
  "nbformat_minor": 0,
  "metadata": {
    "colab": {
      "name": "simple_deep_learning.ipynb",
      "provenance": [],
      "authorship_tag": "ABX9TyPCaJziMmRIdX1MwTO3UV6D",
      "include_colab_link": true
    },
    "kernelspec": {
      "name": "python3",
      "display_name": "Python 3"
    },
    "language_info": {
      "name": "python"
    }
  },
  "cells": [
    {
      "cell_type": "markdown",
      "metadata": {
        "id": "view-in-github",
        "colab_type": "text"
      },
      "source": [
        "<a href=\"https://colab.research.google.com/github/hongo-daisuke/study-deep-learning-in-colaboratory/blob/master/simple_deep_learning.ipynb\" target=\"_parent\"><img src=\"https://colab.research.google.com/assets/colab-badge.svg\" alt=\"Open In Colab\"/></a>"
      ]
    },
    {
      "cell_type": "markdown",
      "source": [
        "# シンプルなDeep Learning"
      ],
      "metadata": {
        "id": "7EZdoJrLWfsG"
      }
    },
    {
      "cell_type": "markdown",
      "source": [
        "# データセットの読み込み\n",
        "Irisデータセットを読み込み"
      ],
      "metadata": {
        "id": "crs7tEzylzdb"
      }
    },
    {
      "cell_type": "code",
      "execution_count": null,
      "metadata": {
        "id": "CsfOD4E_TZuu"
      },
      "outputs": [],
      "source": [
        "import numpy as np\n",
        "from sklearn import datasets\n",
        "\n",
        "iris = datasets.load_iris()"
      ]
    },
    {
      "cell_type": "markdown",
      "source": [
        "# データの前処理\n",
        "\n",
        "データの標準化を行う\\\n",
        "標準化(データから平均値を引いて標準偏差で割ったもの)は、平均値が0、標準偏差が1になるように変換する処理\n",
        "\n",
        "ラベルをone-hot表現に変換する\\\n",
        "one-hot表現は一箇所だけ1で残りを0の配列"
      ],
      "metadata": {
        "id": "FnJ6SsUyl4Xy"
      }
    },
    {
      "cell_type": "code",
      "source": [
        "from sklearn import preprocessing\n",
        "from keras.utils import np_utils\n",
        "\n",
        "# 標準化（データから平均値を引いて標準偏差で割ったもの）を行う。\n",
        "scaler = preprocessing.StandardScaler()\n",
        "scaler.fit(iris.data) # パラメータの計算\n",
        "x = scaler.transform(iris.data) # データの変換\n",
        "\n",
        "# ラベルをone-hot表現に変換\n",
        "t = np_utils.to_categorical(iris.target)"
      ],
      "metadata": {
        "id": "KOXiM0pfXxKJ"
      },
      "execution_count": null,
      "outputs": []
    },
    {
      "cell_type": "markdown",
      "source": [
        "# 訓練データとテストデータ\n",
        "データを訓練用のデータとテスト用のデータに分割"
      ],
      "metadata": {
        "id": "zY4W-1FHmhE4"
      }
    },
    {
      "cell_type": "code",
      "source": [
        "from sklearn.model_selection import train_test_split\n",
        "\n",
        "# x_train: 訓練用の入力データ\n",
        "# x_test: テスト用の入力データ\n",
        "# t_train: 訓練用の正解データ\n",
        "# t_test: テスト用の正解データ\n",
        "# train_size=0.75: 75%が訓練用、25%がテスト用\n",
        "x_train, x_test, t_train, t_test = train_test_split(x, t, train_size=0.75)"
      ],
      "metadata": {
        "id": "DRGLlY_RX8Qt"
      },
      "execution_count": null,
      "outputs": []
    },
    {
      "cell_type": "markdown",
      "source": [
        "# モデルの構築\n",
        "\n",
        "4層からなる、シンプルなディープラーニングのモデルを構築\n",
        "\n",
        "Dense(中間層のニューロンの数, 入力層のニューロンの数)\\\n",
        "Activation(使用する活性化関数)"
      ],
      "metadata": {
        "id": "XIjJZlDEnSQd"
      }
    },
    {
      "cell_type": "code",
      "source": [
        "from keras.models import Sequential\n",
        "from keras.layers import Dense, Activation\n",
        "\n",
        "model = Sequential()\n",
        "model.add(Dense(32, input_dim=4))\n",
        "model.add(Activation('relu'))\n",
        "\n",
        "model.add(Dense(32))\n",
        "model.add(Activation('relu'))\n",
        "\n",
        "model.add(Dense(3))\n",
        "model.add(Activation('softmax'))\n",
        "\n",
        "model.compile(optimizer='sgd', loss='categorical_crossentropy', metrics=['accuracy'])\n",
        "print(model.summary())"
      ],
      "metadata": {
        "colab": {
          "base_uri": "https://localhost:8080/"
        },
        "id": "SAFWy2xinY9B",
        "outputId": "9d7e12ed-e8c6-4c8b-c3b7-013aa67325b4"
      },
      "execution_count": null,
      "outputs": [
        {
          "output_type": "stream",
          "name": "stdout",
          "text": [
            "Model: \"sequential\"\n",
            "_________________________________________________________________\n",
            " Layer (type)                Output Shape              Param #   \n",
            "=================================================================\n",
            " dense (Dense)               (None, 32)                160       \n",
            "                                                                 \n",
            " activation (Activation)     (None, 32)                0         \n",
            "                                                                 \n",
            " dense_1 (Dense)             (None, 32)                1056      \n",
            "                                                                 \n",
            " activation_1 (Activation)   (None, 32)                0         \n",
            "                                                                 \n",
            " dense_2 (Dense)             (None, 3)                 99        \n",
            "                                                                 \n",
            " activation_2 (Activation)   (None, 3)                 0         \n",
            "                                                                 \n",
            "=================================================================\n",
            "Total params: 1,315\n",
            "Trainable params: 1,315\n",
            "Non-trainable params: 0\n",
            "_________________________________________________________________\n",
            "None\n"
          ]
        }
      ]
    },
    {
      "cell_type": "markdown",
      "source": [
        "# 学習\n",
        "\n",
        "訓練用の入力データと正解データを使って、モデルを訓練します。\\\n",
        "fit: モデルを訓練する"
      ],
      "metadata": {
        "id": "-7EzW-15FsTb"
      }
    },
    {
      "cell_type": "code",
      "source": [
        "history = model.fit(x_train, t_train, epochs=30, batch_size=8)"
      ],
      "metadata": {
        "colab": {
          "base_uri": "https://localhost:8080/"
        },
        "id": "F8AcxP9RpSLS",
        "outputId": "eac269a6-cb5d-4509-ec4a-feb5f9349a21"
      },
      "execution_count": null,
      "outputs": [
        {
          "output_type": "stream",
          "name": "stdout",
          "text": [
            "Epoch 1/30\n",
            "14/14 [==============================] - 1s 3ms/step - loss: 1.1937 - accuracy: 0.3482\n",
            "Epoch 2/30\n",
            "14/14 [==============================] - 0s 3ms/step - loss: 1.0440 - accuracy: 0.4375\n",
            "Epoch 3/30\n",
            "14/14 [==============================] - 0s 3ms/step - loss: 0.9374 - accuracy: 0.7143\n",
            "Epoch 4/30\n",
            "14/14 [==============================] - 0s 4ms/step - loss: 0.8528 - accuracy: 0.7232\n",
            "Epoch 5/30\n",
            "14/14 [==============================] - 0s 6ms/step - loss: 0.7798 - accuracy: 0.7232\n",
            "Epoch 6/30\n",
            "14/14 [==============================] - 0s 7ms/step - loss: 0.7186 - accuracy: 0.7232\n",
            "Epoch 7/30\n",
            "14/14 [==============================] - 0s 5ms/step - loss: 0.6666 - accuracy: 0.7411\n",
            "Epoch 8/30\n",
            "14/14 [==============================] - 0s 3ms/step - loss: 0.6228 - accuracy: 0.7411\n",
            "Epoch 9/30\n",
            "14/14 [==============================] - 0s 5ms/step - loss: 0.5869 - accuracy: 0.7411\n",
            "Epoch 10/30\n",
            "14/14 [==============================] - 0s 3ms/step - loss: 0.5556 - accuracy: 0.7589\n",
            "Epoch 11/30\n",
            "14/14 [==============================] - 0s 3ms/step - loss: 0.5297 - accuracy: 0.7589\n",
            "Epoch 12/30\n",
            "14/14 [==============================] - 0s 3ms/step - loss: 0.5067 - accuracy: 0.7768\n",
            "Epoch 13/30\n",
            "14/14 [==============================] - 0s 3ms/step - loss: 0.4867 - accuracy: 0.7768\n",
            "Epoch 14/30\n",
            "14/14 [==============================] - 0s 2ms/step - loss: 0.4689 - accuracy: 0.8125\n",
            "Epoch 15/30\n",
            "14/14 [==============================] - 0s 2ms/step - loss: 0.4518 - accuracy: 0.8304\n",
            "Epoch 16/30\n",
            "14/14 [==============================] - 0s 3ms/step - loss: 0.4367 - accuracy: 0.8393\n",
            "Epoch 17/30\n",
            "14/14 [==============================] - 0s 2ms/step - loss: 0.4231 - accuracy: 0.8482\n",
            "Epoch 18/30\n",
            "14/14 [==============================] - 0s 2ms/step - loss: 0.4103 - accuracy: 0.8393\n",
            "Epoch 19/30\n",
            "14/14 [==============================] - 0s 4ms/step - loss: 0.3988 - accuracy: 0.8393\n",
            "Epoch 20/30\n",
            "14/14 [==============================] - 0s 6ms/step - loss: 0.3871 - accuracy: 0.8482\n",
            "Epoch 21/30\n",
            "14/14 [==============================] - 0s 4ms/step - loss: 0.3771 - accuracy: 0.8571\n",
            "Epoch 22/30\n",
            "14/14 [==============================] - 0s 5ms/step - loss: 0.3671 - accuracy: 0.8571\n",
            "Epoch 23/30\n",
            "14/14 [==============================] - 0s 5ms/step - loss: 0.3575 - accuracy: 0.8571\n",
            "Epoch 24/30\n",
            "14/14 [==============================] - 0s 4ms/step - loss: 0.3485 - accuracy: 0.8661\n",
            "Epoch 25/30\n",
            "14/14 [==============================] - 0s 3ms/step - loss: 0.3397 - accuracy: 0.8661\n",
            "Epoch 26/30\n",
            "14/14 [==============================] - 0s 6ms/step - loss: 0.3314 - accuracy: 0.8839\n",
            "Epoch 27/30\n",
            "14/14 [==============================] - 0s 4ms/step - loss: 0.3234 - accuracy: 0.8839\n",
            "Epoch 28/30\n",
            "14/14 [==============================] - 0s 3ms/step - loss: 0.3163 - accuracy: 0.8839\n",
            "Epoch 29/30\n",
            "14/14 [==============================] - 0s 2ms/step - loss: 0.3090 - accuracy: 0.8929\n",
            "Epoch 30/30\n",
            "14/14 [==============================] - 0s 2ms/step - loss: 0.3023 - accuracy: 0.8929\n"
          ]
        }
      ]
    },
    {
      "cell_type": "markdown",
      "source": [
        "# 学習の推移"
      ],
      "metadata": {
        "id": "hN377OokSm6i"
      }
    },
    {
      "cell_type": "code",
      "source": [
        "import matplotlib.pyplot as plt\n",
        "\n",
        "hist_loss = history.history['loss']\n",
        "hist_acc = history.history['accuracy']\n",
        "\n",
        "plt.plot(np.arange(len(hist_loss)), hist_loss, label='loss')\n",
        "plt.plot(np.arange(len(hist_acc)), hist_acc, label='accuracy')\n",
        "plt.legend()\n",
        "plt.show()"
      ],
      "metadata": {
        "colab": {
          "base_uri": "https://localhost:8080/",
          "height": 265
        },
        "id": "7W2urPG8Spfm",
        "outputId": "018735de-b074-43e6-c832-ae389bfc4a52"
      },
      "execution_count": null,
      "outputs": [
        {
          "output_type": "display_data",
          "data": {
            "text/plain": [
              "<Figure size 432x288 with 1 Axes>"
            ],
            "image/png": "[encoded data removed]"
          },
          "metadata": {
            "needs_background": "light"
          }
        }
      ]
    },
    {
      "cell_type": "markdown",
      "source": [
        "# 評価\n",
        "モデルの評価を行う \\\n",
        "evaluate: 入力、正解データから誤差などを計算。"
      ],
      "metadata": {
        "id": "Q9JwDHlw2GP2"
      }
    },
    {
      "cell_type": "code",
      "source": [
        "loss, accuracy = model.evaluate(x_test, t_test)\n",
        "print(loss, accuracy)"
      ],
      "metadata": {
        "colab": {
          "base_uri": "https://localhost:8080/"
        },
        "id": "h-daiJOA2XHQ",
        "outputId": "1386c313-5f5e-45fa-b7ad-e31e19980c3d"
      },
      "execution_count": null,
      "outputs": [
        {
          "output_type": "stream",
          "name": "stdout",
          "text": [
            "2/2 [==============================] - 0s 7ms/step - loss: 0.3685 - accuracy: 0.8947\n",
            "0.3684815764427185 0.8947368264198303\n"
          ]
        }
      ]
    },
    {
      "cell_type": "markdown",
      "source": [
        "# 予測"
      ],
      "metadata": {
        "id": "GbS6lzal3P0N"
      }
    },
    {
      "cell_type": "code",
      "source": [
        "model.predict(x_test)"
      ],
      "metadata": {
        "colab": {
          "base_uri": "https://localhost:8080/"
        },
        "id": "J7GaX0IL3R_y",
        "outputId": "80340ffe-c351-4a70-a210-4e7c7d7870c8"
      },
      "execution_count": null,
      "outputs": [
        {
          "output_type": "execute_result",
          "data": {
            "text/plain": [
              "array([[0.03975269, 0.7948786 , 0.1653687 ],\n",
              "       [0.03810436, 0.30560708, 0.6562886 ],\n",
              "       [0.01352802, 0.15322168, 0.8332503 ],\n",
              "       [0.093472  , 0.72376853, 0.18275951],\n",
              "       [0.0241391 , 0.44214073, 0.5337202 ],\n",
              "       [0.0129159 , 0.13036598, 0.8567181 ],\n",
              "       [0.983084  , 0.00919903, 0.00771688],\n",
              "       [0.01051173, 0.16518423, 0.8243041 ],\n",
              "       [0.974274  , 0.01470835, 0.01101766],\n",
              "       [0.01721406, 0.28832594, 0.69446   ],\n",
              "       [0.9863062 , 0.00740392, 0.00628987],\n",
              "       [0.02628855, 0.38160565, 0.5921057 ],\n",
              "       [0.0127968 , 0.1951538 , 0.7920494 ],\n",
              "       [0.0868415 , 0.6604265 , 0.25273198],\n",
              "       [0.9755719 , 0.01499482, 0.00943328],\n",
              "       [0.08329741, 0.45442286, 0.46227965],\n",
              "       [0.97932065, 0.01108544, 0.00959392],\n",
              "       [0.06359138, 0.47606176, 0.4603469 ],\n",
              "       [0.5519602 , 0.33923894, 0.10880097],\n",
              "       [0.05930374, 0.7189298 , 0.22176641],\n",
              "       [0.9441735 , 0.03517902, 0.02064738],\n",
              "       [0.07267217, 0.6735243 , 0.25380352],\n",
              "       [0.00996848, 0.14260307, 0.8474285 ],\n",
              "       [0.07040765, 0.6139208 , 0.31567162],\n",
              "       [0.02467068, 0.3821806 , 0.5931487 ],\n",
              "       [0.09164067, 0.6001756 , 0.30818373],\n",
              "       [0.01451225, 0.16891694, 0.81657076],\n",
              "       [0.956602  , 0.02666031, 0.01673773],\n",
              "       [0.04792464, 0.6617043 , 0.29037106],\n",
              "       [0.08876722, 0.5413268 , 0.369906  ],\n",
              "       [0.03584044, 0.66575253, 0.29840714],\n",
              "       [0.07406066, 0.5165917 , 0.4093476 ],\n",
              "       [0.9579813 , 0.02560038, 0.01641837],\n",
              "       [0.09545276, 0.34264728, 0.56189996],\n",
              "       [0.0776464 , 0.68637735, 0.23597628],\n",
              "       [0.9839246 , 0.00852512, 0.00755023],\n",
              "       [0.9591161 , 0.02570607, 0.01517779],\n",
              "       [0.01028939, 0.13714069, 0.85256994]], dtype=float32)"
            ]
          },
          "metadata": {},
          "execution_count": 9
        }
      ]
    },
    {
      "cell_type": "markdown",
      "source": [
        "## 保存"
      ],
      "metadata": {
        "id": "NghOaQxJ3-Ab"
      }
    },
    {
      "cell_type": "code",
      "source": [
        "from keras.models import load_model\n",
        "\n",
        "model.save('model.h5')\n",
        "load_model('model.h5')"
      ],
      "metadata": {
        "colab": {
          "base_uri": "https://localhost:8080/"
        },
        "id": "KF1qHMLU3w6M",
        "outputId": "4ca1dc9b-56d9-4479-d141-b878b7df3bd3"
      },
      "execution_count": null,
      "outputs": [
        {
          "output_type": "execute_result",
          "data": {
            "text/plain": [
              "<keras.engine.sequential.Sequential at 0x7f89c71fa8d0>"
            ]
          },
          "metadata": {},
          "execution_count": 10
        }
      ]
    }
  ]
}